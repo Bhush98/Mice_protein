{
 "cells": [
  {
   "cell_type": "code",
   "execution_count": null,
   "metadata": {},
   "outputs": [],
   "source": [
    "#---------Mice problem----------\n"
   ]
  },
  {
   "cell_type": "code",
   "execution_count": null,
   "metadata": {},
   "outputs": [],
   "source": [
    "# In this problem we have a total of 7 different categories\n",
    "# in class,That defines different types of protein in the cortex of \n",
    "# Mice and by given attributes we have to conclude which type protein it \n",
    "# is.\n",
    "# We have used SVC that is support vector classifier that is used\n",
    "# for classification purpose and as this dataset has many attributes\n",
    "# SVM is a great choice for this types of problem where we have must \n",
    "# attributes that help us to classify.\n"
   ]
  },
  {
   "cell_type": "code",
   "execution_count": 1,
   "metadata": {},
   "outputs": [],
   "source": [
    "#importing libraries\n",
    "\n",
    "import pandas as pd\n",
    "import numpy as np\n"
   ]
  },
  {
   "cell_type": "code",
   "execution_count": 2,
   "metadata": {},
   "outputs": [
    {
     "data": {
      "text/html": [
       "<div>\n",
       "<style scoped>\n",
       "    .dataframe tbody tr th:only-of-type {\n",
       "        vertical-align: middle;\n",
       "    }\n",
       "\n",
       "    .dataframe tbody tr th {\n",
       "        vertical-align: top;\n",
       "    }\n",
       "\n",
       "    .dataframe thead th {\n",
       "        text-align: right;\n",
       "    }\n",
       "</style>\n",
       "<table border=\"1\" class=\"dataframe\">\n",
       "  <thead>\n",
       "    <tr style=\"text-align: right;\">\n",
       "      <th></th>\n",
       "      <th>MouseID</th>\n",
       "      <th>DYRK1A_N</th>\n",
       "      <th>ITSN1_N</th>\n",
       "      <th>BDNF_N</th>\n",
       "      <th>NR1_N</th>\n",
       "      <th>NR2A_N</th>\n",
       "      <th>pAKT_N</th>\n",
       "      <th>pBRAF_N</th>\n",
       "      <th>pCAMKII_N</th>\n",
       "      <th>pCREB_N</th>\n",
       "      <th>...</th>\n",
       "      <th>pCFOS_N</th>\n",
       "      <th>SYP_N</th>\n",
       "      <th>H3AcK18_N</th>\n",
       "      <th>EGR1_N</th>\n",
       "      <th>H3MeK4_N</th>\n",
       "      <th>CaNA_N</th>\n",
       "      <th>Genotype</th>\n",
       "      <th>Treatment</th>\n",
       "      <th>Behavior</th>\n",
       "      <th>class</th>\n",
       "    </tr>\n",
       "  </thead>\n",
       "  <tbody>\n",
       "    <tr>\n",
       "      <th>75</th>\n",
       "      <td>3415_1</td>\n",
       "      <td>0.649781</td>\n",
       "      <td>0.828696</td>\n",
       "      <td>0.405862</td>\n",
       "      <td>2.921435</td>\n",
       "      <td>5.167979</td>\n",
       "      <td>0.207174</td>\n",
       "      <td>0.176640</td>\n",
       "      <td>3.728084</td>\n",
       "      <td>0.239283</td>\n",
       "      <td>...</td>\n",
       "      <td>0.129363</td>\n",
       "      <td>0.486912</td>\n",
       "      <td>0.125152</td>\n",
       "      <td>0.146865</td>\n",
       "      <td>0.143517</td>\n",
       "      <td>1.627181</td>\n",
       "      <td>Control</td>\n",
       "      <td>Memantine</td>\n",
       "      <td>C/S</td>\n",
       "      <td>c-CS-m</td>\n",
       "    </tr>\n",
       "    <tr>\n",
       "      <th>76</th>\n",
       "      <td>3415_2</td>\n",
       "      <td>0.616481</td>\n",
       "      <td>0.841974</td>\n",
       "      <td>0.388584</td>\n",
       "      <td>2.862575</td>\n",
       "      <td>5.194163</td>\n",
       "      <td>0.223433</td>\n",
       "      <td>0.167725</td>\n",
       "      <td>3.648240</td>\n",
       "      <td>0.221030</td>\n",
       "      <td>...</td>\n",
       "      <td>0.143084</td>\n",
       "      <td>0.467833</td>\n",
       "      <td>0.112857</td>\n",
       "      <td>0.161132</td>\n",
       "      <td>0.145719</td>\n",
       "      <td>1.562096</td>\n",
       "      <td>Control</td>\n",
       "      <td>Memantine</td>\n",
       "      <td>C/S</td>\n",
       "      <td>c-CS-m</td>\n",
       "    </tr>\n",
       "    <tr>\n",
       "      <th>77</th>\n",
       "      <td>3415_3</td>\n",
       "      <td>0.637424</td>\n",
       "      <td>0.852882</td>\n",
       "      <td>0.400561</td>\n",
       "      <td>2.968155</td>\n",
       "      <td>5.350820</td>\n",
       "      <td>0.208790</td>\n",
       "      <td>0.173261</td>\n",
       "      <td>3.814545</td>\n",
       "      <td>0.222300</td>\n",
       "      <td>...</td>\n",
       "      <td>0.147673</td>\n",
       "      <td>0.462501</td>\n",
       "      <td>0.116433</td>\n",
       "      <td>0.160594</td>\n",
       "      <td>0.142879</td>\n",
       "      <td>1.571868</td>\n",
       "      <td>Control</td>\n",
       "      <td>Memantine</td>\n",
       "      <td>C/S</td>\n",
       "      <td>c-CS-m</td>\n",
       "    </tr>\n",
       "    <tr>\n",
       "      <th>78</th>\n",
       "      <td>3415_4</td>\n",
       "      <td>0.576815</td>\n",
       "      <td>0.755390</td>\n",
       "      <td>0.348346</td>\n",
       "      <td>2.624901</td>\n",
       "      <td>4.727509</td>\n",
       "      <td>0.205892</td>\n",
       "      <td>0.161192</td>\n",
       "      <td>3.778530</td>\n",
       "      <td>0.194153</td>\n",
       "      <td>...</td>\n",
       "      <td>0.121290</td>\n",
       "      <td>0.479110</td>\n",
       "      <td>0.102831</td>\n",
       "      <td>0.144238</td>\n",
       "      <td>0.141681</td>\n",
       "      <td>1.646608</td>\n",
       "      <td>Control</td>\n",
       "      <td>Memantine</td>\n",
       "      <td>C/S</td>\n",
       "      <td>c-CS-m</td>\n",
       "    </tr>\n",
       "    <tr>\n",
       "      <th>79</th>\n",
       "      <td>3415_5</td>\n",
       "      <td>0.542545</td>\n",
       "      <td>0.757917</td>\n",
       "      <td>0.350051</td>\n",
       "      <td>2.634509</td>\n",
       "      <td>4.735602</td>\n",
       "      <td>0.210526</td>\n",
       "      <td>0.165671</td>\n",
       "      <td>3.871971</td>\n",
       "      <td>0.194297</td>\n",
       "      <td>...</td>\n",
       "      <td>0.142617</td>\n",
       "      <td>0.438354</td>\n",
       "      <td>0.110614</td>\n",
       "      <td>0.155667</td>\n",
       "      <td>0.146408</td>\n",
       "      <td>1.607631</td>\n",
       "      <td>Control</td>\n",
       "      <td>Memantine</td>\n",
       "      <td>C/S</td>\n",
       "      <td>c-CS-m</td>\n",
       "    </tr>\n",
       "  </tbody>\n",
       "</table>\n",
       "<p>5 rows × 82 columns</p>\n",
       "</div>"
      ],
      "text/plain": [
       "   MouseID  DYRK1A_N   ITSN1_N    BDNF_N     NR1_N    NR2A_N    pAKT_N  \\\n",
       "75  3415_1  0.649781  0.828696  0.405862  2.921435  5.167979  0.207174   \n",
       "76  3415_2  0.616481  0.841974  0.388584  2.862575  5.194163  0.223433   \n",
       "77  3415_3  0.637424  0.852882  0.400561  2.968155  5.350820  0.208790   \n",
       "78  3415_4  0.576815  0.755390  0.348346  2.624901  4.727509  0.205892   \n",
       "79  3415_5  0.542545  0.757917  0.350051  2.634509  4.735602  0.210526   \n",
       "\n",
       "     pBRAF_N  pCAMKII_N   pCREB_N   ...     pCFOS_N     SYP_N  H3AcK18_N  \\\n",
       "75  0.176640   3.728084  0.239283   ...    0.129363  0.486912   0.125152   \n",
       "76  0.167725   3.648240  0.221030   ...    0.143084  0.467833   0.112857   \n",
       "77  0.173261   3.814545  0.222300   ...    0.147673  0.462501   0.116433   \n",
       "78  0.161192   3.778530  0.194153   ...    0.121290  0.479110   0.102831   \n",
       "79  0.165671   3.871971  0.194297   ...    0.142617  0.438354   0.110614   \n",
       "\n",
       "      EGR1_N  H3MeK4_N    CaNA_N  Genotype  Treatment  Behavior   class  \n",
       "75  0.146865  0.143517  1.627181   Control  Memantine       C/S  c-CS-m  \n",
       "76  0.161132  0.145719  1.562096   Control  Memantine       C/S  c-CS-m  \n",
       "77  0.160594  0.142879  1.571868   Control  Memantine       C/S  c-CS-m  \n",
       "78  0.144238  0.141681  1.646608   Control  Memantine       C/S  c-CS-m  \n",
       "79  0.155667  0.146408  1.607631   Control  Memantine       C/S  c-CS-m  \n",
       "\n",
       "[5 rows x 82 columns]"
      ]
     },
     "execution_count": 2,
     "metadata": {},
     "output_type": "execute_result"
    }
   ],
   "source": [
    "#importing and cleaning the dataset\n",
    "\n",
    "dataset = pd.read_csv('Downloads/Data_Cortex_Nuclear.csv')\n",
    "dataset = dataset.dropna()\n",
    "dataset.head()"
   ]
  },
  {
   "cell_type": "code",
   "execution_count": 3,
   "metadata": {},
   "outputs": [
    {
     "data": {
      "text/plain": [
       "Index(['MouseID', 'DYRK1A_N', 'ITSN1_N', 'BDNF_N', 'NR1_N', 'NR2A_N', 'pAKT_N',\n",
       "       'pBRAF_N', 'pCAMKII_N', 'pCREB_N', 'pELK_N', 'pERK_N', 'pJNK_N',\n",
       "       'PKCA_N', 'pMEK_N', 'pNR1_N', 'pNR2A_N', 'pNR2B_N', 'pPKCAB_N',\n",
       "       'pRSK_N', 'AKT_N', 'BRAF_N', 'CAMKII_N', 'CREB_N', 'ELK_N', 'ERK_N',\n",
       "       'GSK3B_N', 'JNK_N', 'MEK_N', 'TRKA_N', 'RSK_N', 'APP_N', 'Bcatenin_N',\n",
       "       'SOD1_N', 'MTOR_N', 'P38_N', 'pMTOR_N', 'DSCR1_N', 'AMPKA_N', 'NR2B_N',\n",
       "       'pNUMB_N', 'RAPTOR_N', 'TIAM1_N', 'pP70S6_N', 'NUMB_N', 'P70S6_N',\n",
       "       'pGSK3B_N', 'pPKCG_N', 'CDK5_N', 'S6_N', 'ADARB1_N', 'AcetylH3K9_N',\n",
       "       'RRP1_N', 'BAX_N', 'ARC_N', 'ERBB4_N', 'nNOS_N', 'Tau_N', 'GFAP_N',\n",
       "       'GluR3_N', 'GluR4_N', 'IL1B_N', 'P3525_N', 'pCASP9_N', 'PSD95_N',\n",
       "       'SNCA_N', 'Ubiquitin_N', 'pGSK3B_Tyr216_N', 'SHH_N', 'BAD_N', 'BCL2_N',\n",
       "       'pS6_N', 'pCFOS_N', 'SYP_N', 'H3AcK18_N', 'EGR1_N', 'H3MeK4_N',\n",
       "       'CaNA_N', 'Genotype', 'Treatment', 'Behavior', 'class'],\n",
       "      dtype='object')"
      ]
     },
     "execution_count": 3,
     "metadata": {},
     "output_type": "execute_result"
    }
   ],
   "source": [
    "#total columns in the dataset\n",
    "\n",
    "dataset.columns"
   ]
  },
  {
   "cell_type": "code",
   "execution_count": 4,
   "metadata": {},
   "outputs": [],
   "source": [
    "#using labelencoder to encode the strings\n",
    "# that is the unique strings in the columns \n",
    "\n",
    "from sklearn.preprocessing import LabelEncoder\n",
    "enc = LabelEncoder()\n",
    "dataset['Genotype'] = enc.fit_transform(dataset['Genotype'])"
   ]
  },
  {
   "cell_type": "code",
   "execution_count": 5,
   "metadata": {},
   "outputs": [],
   "source": [
    "dataset['Treatment'] = enc.fit_transform(dataset['Treatment'])"
   ]
  },
  {
   "cell_type": "code",
   "execution_count": 6,
   "metadata": {},
   "outputs": [],
   "source": [
    "dataset['Behavior'] = enc.fit_transform(dataset['Behavior'])"
   ]
  },
  {
   "cell_type": "code",
   "execution_count": 7,
   "metadata": {},
   "outputs": [],
   "source": [
    "dataset['class'] = enc.fit_transform(dataset['class'])"
   ]
  },
  {
   "cell_type": "code",
   "execution_count": 8,
   "metadata": {},
   "outputs": [
    {
     "data": {
      "text/html": [
       "<div>\n",
       "<style scoped>\n",
       "    .dataframe tbody tr th:only-of-type {\n",
       "        vertical-align: middle;\n",
       "    }\n",
       "\n",
       "    .dataframe tbody tr th {\n",
       "        vertical-align: top;\n",
       "    }\n",
       "\n",
       "    .dataframe thead th {\n",
       "        text-align: right;\n",
       "    }\n",
       "</style>\n",
       "<table border=\"1\" class=\"dataframe\">\n",
       "  <thead>\n",
       "    <tr style=\"text-align: right;\">\n",
       "      <th></th>\n",
       "      <th>MouseID</th>\n",
       "      <th>DYRK1A_N</th>\n",
       "      <th>ITSN1_N</th>\n",
       "      <th>BDNF_N</th>\n",
       "      <th>NR1_N</th>\n",
       "      <th>NR2A_N</th>\n",
       "      <th>pAKT_N</th>\n",
       "      <th>pBRAF_N</th>\n",
       "      <th>pCAMKII_N</th>\n",
       "      <th>pCREB_N</th>\n",
       "      <th>...</th>\n",
       "      <th>pCFOS_N</th>\n",
       "      <th>SYP_N</th>\n",
       "      <th>H3AcK18_N</th>\n",
       "      <th>EGR1_N</th>\n",
       "      <th>H3MeK4_N</th>\n",
       "      <th>CaNA_N</th>\n",
       "      <th>Genotype</th>\n",
       "      <th>Treatment</th>\n",
       "      <th>Behavior</th>\n",
       "      <th>class</th>\n",
       "    </tr>\n",
       "  </thead>\n",
       "  <tbody>\n",
       "    <tr>\n",
       "      <th>75</th>\n",
       "      <td>3415_1</td>\n",
       "      <td>0.649781</td>\n",
       "      <td>0.828696</td>\n",
       "      <td>0.405862</td>\n",
       "      <td>2.921435</td>\n",
       "      <td>5.167979</td>\n",
       "      <td>0.207174</td>\n",
       "      <td>0.176640</td>\n",
       "      <td>3.728084</td>\n",
       "      <td>0.239283</td>\n",
       "      <td>...</td>\n",
       "      <td>0.129363</td>\n",
       "      <td>0.486912</td>\n",
       "      <td>0.125152</td>\n",
       "      <td>0.146865</td>\n",
       "      <td>0.143517</td>\n",
       "      <td>1.627181</td>\n",
       "      <td>0</td>\n",
       "      <td>0</td>\n",
       "      <td>0</td>\n",
       "      <td>0</td>\n",
       "    </tr>\n",
       "    <tr>\n",
       "      <th>76</th>\n",
       "      <td>3415_2</td>\n",
       "      <td>0.616481</td>\n",
       "      <td>0.841974</td>\n",
       "      <td>0.388584</td>\n",
       "      <td>2.862575</td>\n",
       "      <td>5.194163</td>\n",
       "      <td>0.223433</td>\n",
       "      <td>0.167725</td>\n",
       "      <td>3.648240</td>\n",
       "      <td>0.221030</td>\n",
       "      <td>...</td>\n",
       "      <td>0.143084</td>\n",
       "      <td>0.467833</td>\n",
       "      <td>0.112857</td>\n",
       "      <td>0.161132</td>\n",
       "      <td>0.145719</td>\n",
       "      <td>1.562096</td>\n",
       "      <td>0</td>\n",
       "      <td>0</td>\n",
       "      <td>0</td>\n",
       "      <td>0</td>\n",
       "    </tr>\n",
       "    <tr>\n",
       "      <th>77</th>\n",
       "      <td>3415_3</td>\n",
       "      <td>0.637424</td>\n",
       "      <td>0.852882</td>\n",
       "      <td>0.400561</td>\n",
       "      <td>2.968155</td>\n",
       "      <td>5.350820</td>\n",
       "      <td>0.208790</td>\n",
       "      <td>0.173261</td>\n",
       "      <td>3.814545</td>\n",
       "      <td>0.222300</td>\n",
       "      <td>...</td>\n",
       "      <td>0.147673</td>\n",
       "      <td>0.462501</td>\n",
       "      <td>0.116433</td>\n",
       "      <td>0.160594</td>\n",
       "      <td>0.142879</td>\n",
       "      <td>1.571868</td>\n",
       "      <td>0</td>\n",
       "      <td>0</td>\n",
       "      <td>0</td>\n",
       "      <td>0</td>\n",
       "    </tr>\n",
       "    <tr>\n",
       "      <th>78</th>\n",
       "      <td>3415_4</td>\n",
       "      <td>0.576815</td>\n",
       "      <td>0.755390</td>\n",
       "      <td>0.348346</td>\n",
       "      <td>2.624901</td>\n",
       "      <td>4.727509</td>\n",
       "      <td>0.205892</td>\n",
       "      <td>0.161192</td>\n",
       "      <td>3.778530</td>\n",
       "      <td>0.194153</td>\n",
       "      <td>...</td>\n",
       "      <td>0.121290</td>\n",
       "      <td>0.479110</td>\n",
       "      <td>0.102831</td>\n",
       "      <td>0.144238</td>\n",
       "      <td>0.141681</td>\n",
       "      <td>1.646608</td>\n",
       "      <td>0</td>\n",
       "      <td>0</td>\n",
       "      <td>0</td>\n",
       "      <td>0</td>\n",
       "    </tr>\n",
       "    <tr>\n",
       "      <th>79</th>\n",
       "      <td>3415_5</td>\n",
       "      <td>0.542545</td>\n",
       "      <td>0.757917</td>\n",
       "      <td>0.350051</td>\n",
       "      <td>2.634509</td>\n",
       "      <td>4.735602</td>\n",
       "      <td>0.210526</td>\n",
       "      <td>0.165671</td>\n",
       "      <td>3.871971</td>\n",
       "      <td>0.194297</td>\n",
       "      <td>...</td>\n",
       "      <td>0.142617</td>\n",
       "      <td>0.438354</td>\n",
       "      <td>0.110614</td>\n",
       "      <td>0.155667</td>\n",
       "      <td>0.146408</td>\n",
       "      <td>1.607631</td>\n",
       "      <td>0</td>\n",
       "      <td>0</td>\n",
       "      <td>0</td>\n",
       "      <td>0</td>\n",
       "    </tr>\n",
       "  </tbody>\n",
       "</table>\n",
       "<p>5 rows × 82 columns</p>\n",
       "</div>"
      ],
      "text/plain": [
       "   MouseID  DYRK1A_N   ITSN1_N    BDNF_N     NR1_N    NR2A_N    pAKT_N  \\\n",
       "75  3415_1  0.649781  0.828696  0.405862  2.921435  5.167979  0.207174   \n",
       "76  3415_2  0.616481  0.841974  0.388584  2.862575  5.194163  0.223433   \n",
       "77  3415_3  0.637424  0.852882  0.400561  2.968155  5.350820  0.208790   \n",
       "78  3415_4  0.576815  0.755390  0.348346  2.624901  4.727509  0.205892   \n",
       "79  3415_5  0.542545  0.757917  0.350051  2.634509  4.735602  0.210526   \n",
       "\n",
       "     pBRAF_N  pCAMKII_N   pCREB_N  ...     pCFOS_N     SYP_N  H3AcK18_N  \\\n",
       "75  0.176640   3.728084  0.239283  ...    0.129363  0.486912   0.125152   \n",
       "76  0.167725   3.648240  0.221030  ...    0.143084  0.467833   0.112857   \n",
       "77  0.173261   3.814545  0.222300  ...    0.147673  0.462501   0.116433   \n",
       "78  0.161192   3.778530  0.194153  ...    0.121290  0.479110   0.102831   \n",
       "79  0.165671   3.871971  0.194297  ...    0.142617  0.438354   0.110614   \n",
       "\n",
       "      EGR1_N  H3MeK4_N    CaNA_N  Genotype  Treatment  Behavior  class  \n",
       "75  0.146865  0.143517  1.627181         0          0         0      0  \n",
       "76  0.161132  0.145719  1.562096         0          0         0      0  \n",
       "77  0.160594  0.142879  1.571868         0          0         0      0  \n",
       "78  0.144238  0.141681  1.646608         0          0         0      0  \n",
       "79  0.155667  0.146408  1.607631         0          0         0      0  \n",
       "\n",
       "[5 rows x 82 columns]"
      ]
     },
     "execution_count": 8,
     "metadata": {},
     "output_type": "execute_result"
    }
   ],
   "source": [
    "dataset.head()"
   ]
  },
  {
   "cell_type": "code",
   "execution_count": 9,
   "metadata": {},
   "outputs": [
    {
     "data": {
      "text/plain": [
       "array([[0.64978128, 0.82869641, 0.40586177, 2.92143482, 5.167979  ,\n",
       "        0.2071741 , 0.17664042, 3.72808399, 0.23928259, 1.66657918,\n",
       "        0.96946632, 0.32125984, 0.40656168, 0.25529309, 1.05634296,\n",
       "        1.09930009, 1.92528434, 2.23167104, 0.42685914, 0.87322835,\n",
       "        0.5127734 , 0.3432196 , 0.16762905, 1.85275591, 3.36649169,\n",
       "        1.50367454, 0.24601925, 0.30542432, 0.85100612, 0.16517935,\n",
       "        0.44155731, 2.57821522, 0.34085739, 0.48766404, 0.40104987,\n",
       "        0.78136483, 0.53403325, 0.43184602, 0.61802275, 0.36141732,\n",
       "        0.32195976, 0.42729659, 0.25205599, 0.24208604, 1.06118101,\n",
       "        0.16375812, 1.8623681 , 0.32117492, 0.54104099, 2.15954748,\n",
       "        0.1346388 , 0.15817776, 0.19612419, 0.13200081, 0.16112013,\n",
       "        0.21098823, 0.21037946, 0.12814529, 0.29246144, 0.1525974 ,\n",
       "        0.52724229, 0.34806209, 1.68755073, 2.43658685, 0.16817167,\n",
       "        1.13915382, 0.98777395, 0.23975244, 0.13905235, 0.11292614,\n",
       "        0.13200081, 0.12936282, 0.48691153, 0.12515219, 0.14686485,\n",
       "        0.14351664, 1.62718141, 0.        , 0.        , 0.        ],\n",
       "       [0.61648069, 0.84197425, 0.38858369, 2.86257511, 5.19416309,\n",
       "        0.22343348, 0.16772532, 3.64824034, 0.22103004, 1.56515022,\n",
       "        0.99184549, 0.34291846, 0.39690987, 0.27081545, 1.0327897 ,\n",
       "        1.07871245, 1.89304721, 2.33098712, 0.40918455, 0.78901288,\n",
       "        0.51150215, 0.34480687, 0.16669528, 1.85253219, 3.4311588 ,\n",
       "        1.47167382, 0.24206009, 0.30017167, 0.83364807, 0.16266094,\n",
       "        0.43725322, 2.53802575, 0.3376824 , 0.47261803, 0.4023176 ,\n",
       "        0.7865236 , 0.53321888, 0.42987125, 0.60317597, 0.36025751,\n",
       "        0.2960515 , 0.42583691, 0.25201717, 0.24211992, 1.06398528,\n",
       "        0.16998111, 1.69220444, 0.3204733 , 0.53922641, 2.16709754,\n",
       "        0.13627324, 0.161579  , 0.19334792, 0.13900766, 0.16152928,\n",
       "        0.21079845, 0.19339763, 0.13458288, 0.29148852, 0.15188426,\n",
       "        0.51978721, 0.36511882, 1.66287163, 2.35472805, 0.17470419,\n",
       "        1.22785125, 0.98165457, 0.24903053, 0.13378741, 0.12160684,\n",
       "        0.13900766, 0.14308442, 0.46783335, 0.11285672, 0.16113155,\n",
       "        0.1457194 , 1.56209605, 0.        , 0.        , 0.        ]])"
      ]
     },
     "execution_count": 9,
     "metadata": {},
     "output_type": "execute_result"
    }
   ],
   "source": [
    "# Getting X_data and printing instances of X_data\n",
    "\n",
    "X_data = dataset.iloc[:,1:-1].values\n",
    "X_data[0:2]"
   ]
  },
  {
   "cell_type": "code",
   "execution_count": 10,
   "metadata": {},
   "outputs": [
    {
     "data": {
      "text/plain": [
       "array([0, 0, 0, 0, 0])"
      ]
     },
     "execution_count": 10,
     "metadata": {},
     "output_type": "execute_result"
    }
   ],
   "source": [
    "#Getting Y_data\n",
    "\n",
    "Y_data = dataset['class'].values\n",
    "Y_data[0:5]"
   ]
  },
  {
   "cell_type": "code",
   "execution_count": 11,
   "metadata": {},
   "outputs": [
    {
     "name": "stdout",
     "output_type": "stream",
     "text": [
      "[0 1 2 3 4 5 6 7] [45 75 60 75 90 75 60 72]\n"
     ]
    }
   ],
   "source": [
    "#Getting the unique classes in Y_data and the no of instances of each \n",
    "# class\n",
    "\n",
    "unique , counts = np.unique(Y_data,return_counts=True)\n",
    "print(unique,counts)"
   ]
  },
  {
   "cell_type": "code",
   "execution_count": 12,
   "metadata": {},
   "outputs": [
    {
     "data": {
      "text/plain": [
       "array([[ 1.43670714,  1.12612827,  1.70538327,  1.70323178,  1.49995771,\n",
       "        -0.45054164,  0.04754992,  0.07722825,  0.86257169,  0.76181626,\n",
       "         1.86520493,  0.27687724,  1.55670026, -0.22285567,  1.85707195,\n",
       "         1.87867141,  1.30736555,  1.18843304, -0.36085459,  1.48850415,\n",
       "         1.18722443, -0.10408608, -0.21598971,  1.7790818 ,  1.33175035,\n",
       "         1.55572493,  0.33806607,  0.82236687,  1.26626099,  0.18290735,\n",
       "         0.53605   ,  0.94474418, -0.6642671 ,  0.70808321, -0.06404139,\n",
       "         0.28060011, -0.27315372,  1.23842171,  0.75159634,  0.24542234,\n",
       "         0.42693232,  0.24194543, -0.93608574,  1.7651144 ,  0.54189096,\n",
       "         0.14725209,  0.08686206,  0.61658668,  0.66688471,  2.52795364,\n",
       "        -0.45302747, -0.1278299 ,  0.8334766 ,  0.83764337,  0.35303447,\n",
       "         1.01215806,  0.09289556,  0.92587142,  2.07832657,  1.31284564,\n",
       "         0.00324428,  1.90741363,  0.43557705,  0.87579814,  0.52423411,\n",
       "        -0.47365992,  1.46125019,  0.41572273, -0.57589575, -0.68162767,\n",
       "         0.83764337, -0.02216688,  0.59195273, -0.59861792, -0.88379591,\n",
       "        -1.10934869,  0.76435059, -1.0792154 , -1.0792154 , -0.96790604],\n",
       "       [ 1.23272374,  1.19886098,  1.38110357,  1.54315509,  1.52834296,\n",
       "        -0.02803314, -0.30328443,  0.01944163,  0.35445685,  0.502343  ,\n",
       "         1.95960147,  0.70316289,  1.38710164,  0.1221685 ,  1.66880471,\n",
       "         1.7751757 ,  1.19265671,  1.37974292, -0.61331568,  0.83986301,\n",
       "         1.1776872 , -0.07228263, -0.25244658,  1.77847368,  1.42916077,\n",
       "         1.4035297 ,  0.21555537,  0.70579477,  1.1322665 ,  0.08522277,\n",
       "         0.46851438,  0.85611822, -0.67553269,  0.47339949, -0.04876602,\n",
       "         0.31792006, -0.28186541,  1.20367947,  0.58826185,  0.22468366,\n",
       "        -0.1561863 ,  0.21752453, -0.93634874,  1.76617051,  0.55747978,\n",
       "         0.437424  , -0.19693625,  0.60066403,  0.65364288,  2.5480824 ,\n",
       "        -0.44201817, -0.02023895,  0.69526609,  1.33129055,  0.38063272,\n",
       "         1.00517398, -0.19768535,  1.52191762,  2.04942067,  1.27890013,\n",
       "        -0.10077252,  2.49452115,  0.33603847,  0.54874162,  0.82230952,\n",
       "         0.05914059,  1.3883343 ,  0.74345391, -0.77723251, -0.3112443 ,\n",
       "         1.33129055,  0.6534218 ,  0.32422098, -0.80440566, -0.48484616,\n",
       "        -1.06091877,  0.564395  , -1.0792154 , -1.0792154 , -0.96790604]])"
      ]
     },
     "execution_count": 12,
     "metadata": {},
     "output_type": "execute_result"
    }
   ],
   "source": [
    "#scaling the inputs using StandardScaler\n",
    "\n",
    "from sklearn.preprocessing import StandardScaler\n",
    "scaler = StandardScaler()\n",
    "X_data = scaler.fit_transform(X_data)\n",
    "X_data[0:2]"
   ]
  },
  {
   "cell_type": "code",
   "execution_count": 13,
   "metadata": {},
   "outputs": [],
   "source": [
    "# splitting data into training and testing\n",
    "\n",
    "from sklearn.model_selection import train_test_split\n",
    "x_train,x_test,y_train,y_test = train_test_split(X_data,Y_data,test_size=0.3)"
   ]
  },
  {
   "cell_type": "code",
   "execution_count": 14,
   "metadata": {},
   "outputs": [
    {
     "data": {
      "text/plain": [
       "SVC(C=1.0, cache_size=200, class_weight=None, coef0=0.0,\n",
       "  decision_function_shape='ovr', degree=3, gamma='auto', kernel='rbf',\n",
       "  max_iter=-1, probability=False, random_state=None, shrinking=True,\n",
       "  tol=0.001, verbose=False)"
      ]
     },
     "execution_count": 14,
     "metadata": {},
     "output_type": "execute_result"
    }
   ],
   "source": [
    "#Getting our classifier\n",
    "\n",
    "from sklearn.svm import SVC\n",
    "classifier = SVC()\n",
    "classifier.fit(x_train,y_train)"
   ]
  },
  {
   "cell_type": "code",
   "execution_count": 15,
   "metadata": {},
   "outputs": [
    {
     "name": "stdout",
     "output_type": "stream",
     "text": [
      "[0.89189189 0.88571429 0.96969697 1.         0.96551724]\n"
     ]
    }
   ],
   "source": [
    "#using cross_val_score for checking accuracy on different folds\n",
    "\n",
    "from sklearn.model_selection import cross_val_score\n",
    "results = cross_val_score(classifier,x_test,y_test,cv=5)\n",
    "print(results)"
   ]
  },
  {
   "cell_type": "code",
   "execution_count": 16,
   "metadata": {},
   "outputs": [],
   "source": [
    "# in the best case scenario we got a accuracy score of 100 %."
   ]
  },
  {
   "cell_type": "code",
   "execution_count": 17,
   "metadata": {},
   "outputs": [
    {
     "data": {
      "text/plain": [
       "1.0"
      ]
     },
     "execution_count": 17,
     "metadata": {},
     "output_type": "execute_result"
    }
   ],
   "source": [
    "#finally printing the accuracy on training set\n",
    "\n",
    "classifier.score(x_train,y_train)"
   ]
  },
  {
   "cell_type": "code",
   "execution_count": null,
   "metadata": {},
   "outputs": [],
   "source": []
  }
 ],
 "metadata": {
  "kernelspec": {
   "display_name": "Python 3",
   "language": "python",
   "name": "python3"
  },
  "language_info": {
   "codemirror_mode": {
    "name": "ipython",
    "version": 3
   },
   "file_extension": ".py",
   "mimetype": "text/x-python",
   "name": "python",
   "nbconvert_exporter": "python",
   "pygments_lexer": "ipython3",
   "version": "3.5.2"
  }
 },
 "nbformat": 4,
 "nbformat_minor": 2
}
